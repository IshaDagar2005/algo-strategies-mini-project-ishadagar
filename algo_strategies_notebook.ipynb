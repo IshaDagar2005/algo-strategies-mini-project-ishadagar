{
 "cells": [
  {
   "cell_type": "code",
   "execution_count": 52,
   "id": "b7be3386-f00c-4a62-be90-e6ee8742b4ca",
   "metadata": {},
   "outputs": [],
   "source": [
    "import pandas as pd\n",
    "import matplotlib.pyplot as plt\n",
    "from dataclasses import dataclass\n",
    "from typing import List, Tuple\n",
    "import time\n",
    "import copy\n",
    "import itertools\n",
    "import random\n",
    "from memory_profiler import memory_usage"
   ]
  },
  {
   "cell_type": "markdown",
   "id": "f42ac4f0-9dca-41d0-b49b-5b95895089fd",
   "metadata": {},
   "source": [
    "## Problem 1"
   ]
  },
  {
   "cell_type": "code",
   "execution_count": 33,
   "id": "00ae3b38-c7c1-4f20-a90f-647c80f2d645",
   "metadata": {},
   "outputs": [],
   "source": [
    "@dataclass\n",
    "class Ad:\n",
    "    id: str\n",
    "    deadline: int\n",
    "    profit: int"
   ]
  },
  {
   "cell_type": "code",
   "execution_count": 34,
   "id": "9f057d58-f73f-4739-b326-69989446d0ea",
   "metadata": {},
   "outputs": [],
   "source": [
    "def greedy_job_sequencing(ads: List[Ad]) -> Tuple[List[Tuple[int, Ad]], int]:\n",
    "    ads_sorted = sorted(ads, key=lambda a: a.profit, reverse=True)\n",
    "\n",
    "    max_deadline = max(a.deadline for a in ads_sorted)\n",
    "    slots = [None] * max_deadline\n",
    "\n",
    "    total_revenue = 0\n",
    "    schedule = []\n",
    "\n",
    "    for ad in ads_sorted:\n",
    "        for slot_idx in range(min(ad.deadline, max_deadline) - 1, -1, -1):\n",
    "            if slots[slot_idx] is None:\n",
    "                slots[slot_idx] = ad\n",
    "                total_revenue += ad.profit\n",
    "                schedule.append((slot_idx + 1, ad))\n",
    "                break\n",
    "\n",
    "    schedule.sort(key=lambda x: x[0])\n",
    "    return schedule, total_revenue"
   ]
  },
  {
   "cell_type": "code",
   "execution_count": 35,
   "id": "f57c7e4d-4f58-4f45-9bf2-dca667157659",
   "metadata": {},
   "outputs": [
    {
     "data": {
      "text/html": [
       "<div>\n",
       "<style scoped>\n",
       "    .dataframe tbody tr th:only-of-type {\n",
       "        vertical-align: middle;\n",
       "    }\n",
       "\n",
       "    .dataframe tbody tr th {\n",
       "        vertical-align: top;\n",
       "    }\n",
       "\n",
       "    .dataframe thead th {\n",
       "        text-align: right;\n",
       "    }\n",
       "</style>\n",
       "<table border=\"1\" class=\"dataframe\">\n",
       "  <thead>\n",
       "    <tr style=\"text-align: right;\">\n",
       "      <th></th>\n",
       "      <th>Slot</th>\n",
       "      <th>Ad ID</th>\n",
       "      <th>Deadline</th>\n",
       "      <th>Profit</th>\n",
       "    </tr>\n",
       "  </thead>\n",
       "  <tbody>\n",
       "    <tr>\n",
       "      <th>0</th>\n",
       "      <td>1</td>\n",
       "      <td>A2</td>\n",
       "      <td>1</td>\n",
       "      <td>100</td>\n",
       "    </tr>\n",
       "    <tr>\n",
       "      <th>1</th>\n",
       "      <td>2</td>\n",
       "      <td>A1</td>\n",
       "      <td>2</td>\n",
       "      <td>60</td>\n",
       "    </tr>\n",
       "    <tr>\n",
       "      <th>2</th>\n",
       "      <td>3</td>\n",
       "      <td>A6</td>\n",
       "      <td>3</td>\n",
       "      <td>70</td>\n",
       "    </tr>\n",
       "  </tbody>\n",
       "</table>\n",
       "</div>"
      ],
      "text/plain": [
       "   Slot Ad ID  Deadline  Profit\n",
       "0     1    A2         1     100\n",
       "1     2    A1         2      60\n",
       "2     3    A6         3      70"
      ]
     },
     "metadata": {},
     "output_type": "display_data"
    },
    {
     "name": "stdout",
     "output_type": "stream",
     "text": [
      "✅ Total Revenue: 230\n"
     ]
    }
   ],
   "source": [
    "sample_ads = [\n",
    "    Ad(\"A1\", 2, 60),\n",
    "    Ad(\"A2\", 1, 100),\n",
    "    Ad(\"A3\", 3, 20),\n",
    "    Ad(\"A4\", 2, 40),\n",
    "    Ad(\"A5\", 1, 20),\n",
    "    Ad(\"A6\", 3, 70),\n",
    "    Ad(\"A7\", 2, 50)\n",
    "]\n",
    "\n",
    "schedule, revenue = greedy_job_sequencing(sample_ads)\n",
    "\n",
    "schedule_data = []\n",
    "for slot, ad in schedule:\n",
    "    schedule_data.append({\"Slot\": slot, \"Ad ID\": ad.id, \"Deadline\": ad.deadline, \"Profit\": ad.profit})\n",
    "\n",
    "schedule_df = pd.DataFrame(schedule_data)\n",
    "display(schedule_df)\n",
    "\n",
    "print(f\"✅ Total Revenue: {revenue}\")"
   ]
  },
  {
   "cell_type": "code",
   "execution_count": 36,
   "id": "616937a0-f85b-4f48-8209-70ca75dc2bfd",
   "metadata": {},
   "outputs": [
    {
     "data": {
      "image/png": "[encoded data removed]",
      "text/plain": [
       "<Figure size 800x500 with 1 Axes>"
      ]
     },
     "metadata": {},
     "output_type": "display_data"
    }
   ],
   "source": [
    "revenues = []\n",
    "num_ads = []\n",
    "\n",
    "for i in range(1, len(sample_ads) + 1):\n",
    "    subset = sample_ads[:i]\n",
    "    _, rev = greedy_job_sequencing(subset)\n",
    "    num_ads.append(i)\n",
    "    revenues.append(rev)\n",
    "\n",
    "plt.figure(figsize=(8, 5))\n",
    "plt.plot(num_ads, revenues, marker='o', color='purple', linewidth=2)\n",
    "plt.title(\"Number of Ads vs. Revenue Generated\")\n",
    "plt.xlabel(\"Number of Ads Considered\")\n",
    "plt.ylabel(\"Total Revenue\")\n",
    "plt.grid(True)\n",
    "plt.show()"
   ]
  },
  {
   "cell_type": "markdown",
   "id": "1af123e0-31c9-469c-86aa-2dc18369130e",
   "metadata": {},
   "source": [
    "## Problem 2"
   ]
  },
  {
   "cell_type": "code",
   "execution_count": 37,
   "id": "b1a9ef8a-57a2-4479-b66a-02d36e3aa35c",
   "metadata": {},
   "outputs": [],
   "source": [
    "@dataclass\n",
    "class Project:\n",
    "    id: str\n",
    "    cost: int\n",
    "    profit: int\n"
   ]
  },
  {
   "cell_type": "code",
   "execution_count": 38,
   "id": "5988fca7-6d87-4943-88cf-38a163d1abb4",
   "metadata": {},
   "outputs": [],
   "source": [
    "def knapsack_01(projects: List[Project], budget: int) -> Tuple[int, List[Project]]:\n",
    "    n = len(projects)\n",
    "    dp = np.zeros((n + 1, budget + 1), dtype=int)\n",
    "\n",
    "    for i in range(1, n + 1):\n",
    "        cost = projects[i - 1].cost\n",
    "        profit = projects[i - 1].profit\n",
    "        for b in range(budget + 1):\n",
    "            if cost <= b:\n",
    "                dp[i][b] = max(dp[i - 1][b], dp[i - 1][b - cost] + profit)\n",
    "            else:\n",
    "                dp[i][b] = dp[i - 1][b]\n",
    "\n",
    "    selected = []\n",
    "    b = budget\n",
    "    for i in range(n, 0, -1):\n",
    "        if dp[i][b] != dp[i - 1][b]:\n",
    "            selected.append(projects[i - 1])\n",
    "            b -= projects[i - 1].cost\n",
    "\n",
    "    selected.reverse()\n",
    "    return dp[n][budget], selected\n"
   ]
  },
  {
   "cell_type": "code",
   "execution_count": 39,
   "id": "1cc76c1c-03dc-43c3-9fb6-25eac0773f23",
   "metadata": {},
   "outputs": [],
   "source": [
    "projects = [\n",
    "    Project(\"P1\", 10, 15),\n",
    "    Project(\"P2\", 20, 25),\n",
    "    Project(\"P3\", 30, 40),\n",
    "    Project(\"P4\", 25, 30),\n",
    "    Project(\"P5\", 15, 18),\n",
    "    Project(\"P6\", 12, 20)\n",
    "]\n",
    "\n",
    "budget = 50\n"
   ]
  },
  {
   "cell_type": "code",
   "execution_count": 40,
   "id": "3c6c5bcf-67bb-4a53-a302-46089afb6679",
   "metadata": {},
   "outputs": [
    {
     "data": {
      "text/html": [
       "<div>\n",
       "<style scoped>\n",
       "    .dataframe tbody tr th:only-of-type {\n",
       "        vertical-align: middle;\n",
       "    }\n",
       "\n",
       "    .dataframe tbody tr th {\n",
       "        vertical-align: top;\n",
       "    }\n",
       "\n",
       "    .dataframe thead th {\n",
       "        text-align: right;\n",
       "    }\n",
       "</style>\n",
       "<table border=\"1\" class=\"dataframe\">\n",
       "  <thead>\n",
       "    <tr style=\"text-align: right;\">\n",
       "      <th></th>\n",
       "      <th>Project</th>\n",
       "      <th>Cost</th>\n",
       "      <th>Profit</th>\n",
       "    </tr>\n",
       "  </thead>\n",
       "  <tbody>\n",
       "    <tr>\n",
       "      <th>0</th>\n",
       "      <td>P1</td>\n",
       "      <td>10</td>\n",
       "      <td>15</td>\n",
       "    </tr>\n",
       "    <tr>\n",
       "      <th>1</th>\n",
       "      <td>P2</td>\n",
       "      <td>20</td>\n",
       "      <td>25</td>\n",
       "    </tr>\n",
       "    <tr>\n",
       "      <th>2</th>\n",
       "      <td>P3</td>\n",
       "      <td>30</td>\n",
       "      <td>40</td>\n",
       "    </tr>\n",
       "    <tr>\n",
       "      <th>3</th>\n",
       "      <td>P4</td>\n",
       "      <td>25</td>\n",
       "      <td>30</td>\n",
       "    </tr>\n",
       "    <tr>\n",
       "      <th>4</th>\n",
       "      <td>P5</td>\n",
       "      <td>15</td>\n",
       "      <td>18</td>\n",
       "    </tr>\n",
       "    <tr>\n",
       "      <th>5</th>\n",
       "      <td>P6</td>\n",
       "      <td>12</td>\n",
       "      <td>20</td>\n",
       "    </tr>\n",
       "  </tbody>\n",
       "</table>\n",
       "</div>"
      ],
      "text/plain": [
       "  Project  Cost  Profit\n",
       "0      P1    10      15\n",
       "1      P2    20      25\n",
       "2      P3    30      40\n",
       "3      P4    25      30\n",
       "4      P5    15      18\n",
       "5      P6    12      20"
      ]
     },
     "metadata": {},
     "output_type": "display_data"
    },
    {
     "name": "stdout",
     "output_type": "stream",
     "text": [
      "Total Budget: ₹50 lakhs\n",
      "Maximum Profit: ₹65 lakhs\n",
      "\n",
      "Selected Projects for Maximum Profit:\n",
      " - P2: Cost ₹20L, Profit ₹25L\n",
      " - P3: Cost ₹30L, Profit ₹40L\n"
     ]
    }
   ],
   "source": [
    "max_profit, chosen = knapsack_01(projects, budget)\n",
    "\n",
    "# Display all projects\n",
    "df_projects = pd.DataFrame([{\"Project\": p.id, \"Cost\": p.cost, \"Profit\": p.profit} for p in projects])\n",
    "display(df_projects)\n",
    "\n",
    "print(f\"Total Budget: ₹{budget} lakhs\")\n",
    "print(f\"Maximum Profit: ₹{max_profit} lakhs\\n\")\n",
    "print(\"Selected Projects for Maximum Profit:\")\n",
    "for p in chosen:\n",
    "    print(f\" - {p.id}: Cost ₹{p.cost}L, Profit ₹{p.profit}L\")\n"
   ]
  },
  {
   "cell_type": "code",
   "execution_count": 41,
   "id": "c4195588-00ac-4754-b649-27680237989c",
   "metadata": {},
   "outputs": [
    {
     "data": {
      "image/png": "[encoded data removed]",
      "text/plain": [
       "<Figure size 800x500 with 1 Axes>"
      ]
     },
     "metadata": {},
     "output_type": "display_data"
    }
   ],
   "source": [
    "# --- Profit vs. Budget (0 to 50 lakhs) ---\n",
    "\n",
    "budgets = list(range(0, 51, 5))   # Budgets from 0 to 50 (step 5)\n",
    "profits = []\n",
    "\n",
    "for b in budgets:\n",
    "    profit, _ = knapsack_01(projects, b)\n",
    "    profits.append(profit)\n",
    "\n",
    "plt.figure(figsize=(8,5))\n",
    "plt.plot(budgets, profits, marker='o', color='purple', linewidth=2)\n",
    "plt.title(\"Profit vs. Budget \")\n",
    "plt.xlabel(\"Budget (₹ Lakhs)\")\n",
    "plt.ylabel(\"Maximum Profit (₹ Lakhs)\")\n",
    "plt.grid(True)\n",
    "plt.show()"
   ]
  },
  {
   "cell_type": "markdown",
   "id": "ace9d574-9b4d-4404-aa95-fc0c2f97e136",
   "metadata": {},
   "source": [
    "## Problem 3"
   ]
  },
  {
   "cell_type": "code",
   "execution_count": 42,
   "id": "0d4189be-a2f2-4784-9db0-bb4aef724c4c",
   "metadata": {},
   "outputs": [],
   "source": [
    "# Sample Sudoku puzzle (0 means empty cell)\n",
    "sudoku = [\n",
    "    [5, 3, 0, 0, 7, 0, 0, 0, 0],\n",
    "    [6, 0, 0, 1, 9, 5, 0, 0, 0],\n",
    "    [0, 9, 8, 0, 0, 0, 0, 6, 0],\n",
    "    [8, 0, 0, 0, 6, 0, 0, 0, 3],\n",
    "    [4, 0, 0, 8, 0, 3, 0, 0, 1],\n",
    "    [7, 0, 0, 0, 2, 0, 0, 0, 6],\n",
    "    [0, 6, 0, 0, 0, 0, 2, 8, 0],\n",
    "    [0, 0, 0, 4, 1, 9, 0, 0, 5],\n",
    "    [0, 0, 0, 0, 8, 0, 0, 7, 9]\n",
    "]"
   ]
  },
  {
   "cell_type": "code",
   "execution_count": 43,
   "id": "50a84042-b067-429d-8bae-6286547df1ad",
   "metadata": {},
   "outputs": [],
   "source": [
    "def print_sudoku(board):\n",
    "    \"\"\"Pretty print Sudoku board\"\"\"\n",
    "    for i in range(9):\n",
    "        if i % 3 == 0 and i != 0:\n",
    "            print(\"-\" * 21)\n",
    "        for j in range(9):\n",
    "            if j % 3 == 0 and j != 0:\n",
    "                print(\"|\", end=\" \")\n",
    "            print(board[i][j] if board[i][j] != 0 else \".\", end=\" \")\n",
    "        print()"
   ]
  },
  {
   "cell_type": "code",
   "execution_count": 44,
   "id": "fd48935d-e6ef-4151-bd1c-e0f73887a48a",
   "metadata": {},
   "outputs": [],
   "source": [
    "def is_valid(board, row, col, num):\n",
    "    \"\"\"Check if placing num in board[row][col] is valid\"\"\"\n",
    "    # Row check\n",
    "    if num in board[row]:\n",
    "        return False\n",
    "    \n",
    "    # Column check\n",
    "    for i in range(9):\n",
    "        if board[i][col] == num:\n",
    "            return False\n",
    "\n",
    "    # 3x3 box check\n",
    "    start_row, start_col = 3 * (row // 3), 3 * (col // 3)\n",
    "    for i in range(start_row, start_row + 3):\n",
    "        for j in range(start_col, start_col + 3):\n",
    "            if board[i][j] == num:\n",
    "                return False\n",
    "\n",
    "    return True\n",
    "\n",
    "\n",
    "def find_empty(board):\n",
    "    \"\"\"Find first empty cell (returns row, col or None)\"\"\"\n",
    "    for i in range(9):\n",
    "        for j in range(9):\n",
    "            if board[i][j] == 0:\n",
    "                return i, j\n",
    "    return None\n",
    "\n",
    "\n",
    "def solve_sudoku(board):\n",
    "    \"\"\"Solve Sudoku using backtracking\"\"\"\n",
    "    empty = find_empty(board)\n",
    "    if not empty:\n",
    "        return True  # puzzle solved\n",
    "    row, col = empty\n",
    "\n",
    "    for num in range(1, 10):\n",
    "        if is_valid(board, row, col, num):\n",
    "            board[row][col] = num\n",
    "\n",
    "            if solve_sudoku(board):\n",
    "                return True\n",
    "\n",
    "            # Undo the move (backtrack)\n",
    "            board[row][col] = 0\n",
    "\n",
    "    return False"
   ]
  },
  {
   "cell_type": "code",
   "execution_count": 45,
   "id": "75d9ba6c-ee67-4e6b-83a3-9c3a8235193d",
   "metadata": {},
   "outputs": [
    {
     "name": "stdout",
     "output_type": "stream",
     "text": [
      "Input Sudoku Puzzle:\n",
      "\n",
      "5 3 . | . 7 . | . . . \n",
      "6 . . | 1 9 5 | . . . \n",
      ". 9 8 | . . . | . 6 . \n",
      "---------------------\n",
      "8 . . | . 6 . | . . 3 \n",
      "4 . . | 8 . 3 | . . 1 \n",
      "7 . . | . 2 . | . . 6 \n",
      "---------------------\n",
      ". 6 . | . . . | 2 8 . \n",
      ". . . | 4 1 9 | . . 5 \n",
      ". . . | . 8 . | . 7 9 \n",
      "\n",
      "Solved Sudoku:\n",
      "\n",
      "5 3 4 | 6 7 8 | 9 1 2 \n",
      "6 7 2 | 1 9 5 | 3 4 8 \n",
      "1 9 8 | 3 4 2 | 5 6 7 \n",
      "---------------------\n",
      "8 5 9 | 7 6 1 | 4 2 3 \n",
      "4 2 6 | 8 5 3 | 7 9 1 \n",
      "7 1 3 | 9 2 4 | 8 5 6 \n",
      "---------------------\n",
      "9 6 1 | 5 3 7 | 2 8 4 \n",
      "2 8 7 | 4 1 9 | 6 3 5 \n",
      "3 4 5 | 2 8 6 | 1 7 9 \n",
      "\n",
      "Time taken: 0.0311 seconds\n"
     ]
    }
   ],
   "source": [
    "print(\"Input Sudoku Puzzle:\\n\")\n",
    "print_sudoku(sudoku)\n",
    "\n",
    "start_time = time.time()\n",
    "solve_sudoku(sudoku)\n",
    "end_time = time.time()\n",
    "\n",
    "print(\"\\nSolved Sudoku:\\n\")\n",
    "print_sudoku(sudoku)\n",
    "print(f\"\\nTime taken: {end_time - start_time:.4f} seconds\")"
   ]
  },
  {
   "cell_type": "code",
   "execution_count": 46,
   "id": "35876adf-0056-4166-b4b8-6c17c9ca9626",
   "metadata": {},
   "outputs": [
    {
     "data": {
      "image/png": "[encoded data removed]",
      "text/plain": [
       "<Figure size 800x500 with 1 Axes>"
      ]
     },
     "metadata": {},
     "output_type": "display_data"
    }
   ],
   "source": [
    "empty_counts = [10, 20, 30, 40, 50, 60]\n",
    "times = []\n",
    "\n",
    "for empties in empty_counts:\n",
    "    board = copy.deepcopy(sudoku)\n",
    "\n",
    "    # Randomly clear 'empties' number of cells\n",
    "    cleared = 0\n",
    "    import random\n",
    "    while cleared < empties:\n",
    "        r, c = random.randint(0, 8), random.randint(0, 8)\n",
    "        if board[r][c] != 0:\n",
    "            board[r][c] = 0\n",
    "            cleared += 1\n",
    "\n",
    "    start = time.time()\n",
    "    solve_sudoku(board)\n",
    "    times.append(time.time() - start)\n",
    "\n",
    "plt.figure(figsize=(8,5))\n",
    "plt.plot(empty_counts, times, marker='o', color='purple')\n",
    "plt.title(\"Time vs. Number of Empty Cells in Sudoku\")\n",
    "plt.xlabel(\"Number of Empty Cells\")\n",
    "plt.ylabel(\"Solving Time (seconds)\")\n",
    "plt.grid(True)\n",
    "plt.show()"
   ]
  },
  {
   "cell_type": "markdown",
   "id": "d3b61dc5-1c7e-4934-8544-8ed99f7b9181",
   "metadata": {},
   "source": [
    "## Problem 4"
   ]
  },
  {
   "cell_type": "code",
   "execution_count": 47,
   "id": "aa19a806-7407-43c5-b4ba-3d83327d724c",
   "metadata": {},
   "outputs": [],
   "source": [
    "def brute_force_crack(target: str, charset: str, max_len: int):\n",
    "    \"\"\"\n",
    "    Try all combinations from length 1..max_len (inclusive) using charset.\n",
    "    Returns tuple: (found_password_or_None, attempts, elapsed_seconds)\n",
    "    \"\"\"\n",
    "    attempts = 0\n",
    "    start = time.perf_counter()\n",
    "    for length in range(1, max_len + 1):\n",
    "        for combo in itertools.product(charset, repeat=length):\n",
    "            attempts += 1\n",
    "            guess = ''.join(combo)\n",
    "            if guess == target:\n",
    "                elapsed = time.perf_counter() - start\n",
    "                return guess, attempts, elapsed\n",
    "    elapsed = time.perf_counter() - start\n",
    "    return None, attempts, elapsed"
   ]
  },
  {
   "cell_type": "code",
   "execution_count": 48,
   "id": "a8bd9f41-7da8-4fad-9a13-fa5674ff778d",
   "metadata": {},
   "outputs": [],
   "source": [
    "def run_experiment(charset: str, max_len: int, trials_per_length: int = 1, worst_case: bool = False):\n",
    "    \"\"\"\n",
    "    Run experiments for lengths 1..max_len.\n",
    "    If trials_per_length > 1, picks random targets of that length and collects results.\n",
    "    If worst_case=True, targets are the lexicographically last string for that length.\n",
    "    Returns a pandas DataFrame with columns: password_length, target_password, found, attempts, time_seconds\n",
    "    \"\"\"\n",
    "    rows = []\n",
    "    random.seed(42)\n",
    "    for length in range(1, max_len + 1):\n",
    "        for t in range(trials_per_length):\n",
    "            if worst_case:\n",
    "                target = charset[-1] * length\n",
    "            else:\n",
    "                target = ''.join(random.choice(charset) for _ in range(length))\n",
    "            found, attempts, elapsed = brute_force_crack(target, charset, max_len=length)\n",
    "            rows.append({\n",
    "                'password_length': length,\n",
    "                'target_password': target,\n",
    "                'found': bool(found),\n",
    "                'attempts': attempts,\n",
    "                'time_seconds': elapsed\n",
    "            })\n",
    "    return pd.DataFrame(rows)"
   ]
  },
  {
   "cell_type": "code",
   "execution_count": 49,
   "id": "a1e6357d-b939-4c44-88c9-7a48c963cbc2",
   "metadata": {},
   "outputs": [
    {
     "data": {
      "text/html": [
       "<div>\n",
       "<style scoped>\n",
       "    .dataframe tbody tr th:only-of-type {\n",
       "        vertical-align: middle;\n",
       "    }\n",
       "\n",
       "    .dataframe tbody tr th {\n",
       "        vertical-align: top;\n",
       "    }\n",
       "\n",
       "    .dataframe thead th {\n",
       "        text-align: right;\n",
       "    }\n",
       "</style>\n",
       "<table border=\"1\" class=\"dataframe\">\n",
       "  <thead>\n",
       "    <tr style=\"text-align: right;\">\n",
       "      <th></th>\n",
       "      <th>password_length</th>\n",
       "      <th>target_password</th>\n",
       "      <th>found</th>\n",
       "      <th>attempts</th>\n",
       "      <th>time_seconds</th>\n",
       "    </tr>\n",
       "  </thead>\n",
       "  <tbody>\n",
       "    <tr>\n",
       "      <th>0</th>\n",
       "      <td>1</td>\n",
       "      <td>2</td>\n",
       "      <td>True</td>\n",
       "      <td>6</td>\n",
       "      <td>0.000014</td>\n",
       "    </tr>\n",
       "    <tr>\n",
       "      <th>1</th>\n",
       "      <td>2</td>\n",
       "      <td>aa</td>\n",
       "      <td>True</td>\n",
       "      <td>8</td>\n",
       "      <td>0.000009</td>\n",
       "    </tr>\n",
       "    <tr>\n",
       "      <th>2</th>\n",
       "      <td>3</td>\n",
       "      <td>2cb</td>\n",
       "      <td>True</td>\n",
       "      <td>317</td>\n",
       "      <td>0.000089</td>\n",
       "    </tr>\n",
       "    <tr>\n",
       "      <th>3</th>\n",
       "      <td>4</td>\n",
       "      <td>bb2a</td>\n",
       "      <td>True</td>\n",
       "      <td>827</td>\n",
       "      <td>0.000216</td>\n",
       "    </tr>\n",
       "    <tr>\n",
       "      <th>4</th>\n",
       "      <td>5</td>\n",
       "      <td>221a1</td>\n",
       "      <td>True</td>\n",
       "      <td>16721</td>\n",
       "      <td>0.003024</td>\n",
       "    </tr>\n",
       "    <tr>\n",
       "      <th>5</th>\n",
       "      <td>6</td>\n",
       "      <td>daaabb</td>\n",
       "      <td>True</td>\n",
       "      <td>70037</td>\n",
       "      <td>0.009585</td>\n",
       "    </tr>\n",
       "    <tr>\n",
       "      <th>6</th>\n",
       "      <td>7</td>\n",
       "      <td>11a1b22</td>\n",
       "      <td>True</td>\n",
       "      <td>676542</td>\n",
       "      <td>0.092300</td>\n",
       "    </tr>\n",
       "  </tbody>\n",
       "</table>\n",
       "</div>"
      ],
      "text/plain": [
       "   password_length target_password  found  attempts  time_seconds\n",
       "0                1               2   True         6      0.000014\n",
       "1                2              aa   True         8      0.000009\n",
       "2                3             2cb   True       317      0.000089\n",
       "3                4            bb2a   True       827      0.000216\n",
       "4                5           221a1   True     16721      0.003024\n",
       "5                6          daaabb   True     70037      0.009585\n",
       "6                7         11a1b22   True    676542      0.092300"
      ]
     },
     "execution_count": 49,
     "metadata": {},
     "output_type": "execute_result"
    }
   ],
   "source": [
    "# Example experiment\n",
    "charset = 'abcd123'\n",
    "max_len = 7          \n",
    "df = run_experiment(charset, max_len, trials_per_length=1, worst_case=False)\n",
    "\n",
    "df"
   ]
  },
  {
   "cell_type": "code",
   "execution_count": 50,
   "id": "423c9597-6a3c-44af-abcf-81e6f2bd6445",
   "metadata": {},
   "outputs": [
    {
     "data": {
      "image/png": "[encoded data removed]",
      "text/plain": [
       "<Figure size 800x450 with 1 Axes>"
      ]
     },
     "metadata": {},
     "output_type": "display_data"
    }
   ],
   "source": [
    "summary = df.groupby('password_length')['time_seconds'].agg(['mean','std','count']).reset_index()\n",
    "\n",
    "plt.figure(figsize=(8,4.5))\n",
    "plt.errorbar(summary['password_length'], summary['mean'],\n",
    "             yerr=summary['std'].fillna(0),\n",
    "             marker='o', linestyle='-', capsize=4)\n",
    "plt.title('Brute-force cracking: Time vs Password Length')\n",
    "plt.xlabel('Password length')\n",
    "plt.ylabel('Time (seconds)')\n",
    "plt.grid(True)\n",
    "plt.show()"
   ]
  },
  {
   "cell_type": "code",
   "execution_count": null,
   "id": "4fbb2254-3647-4e0f-a233-ac83ef2717ef",
   "metadata": {},
   "outputs": [],
   "source": []
  }
 ],
 "metadata": {
  "kernelspec": {
   "display_name": "Python 3 (ipykernel)",
   "language": "python",
   "name": "python3"
  },
  "language_info": {
   "codemirror_mode": {
    "name": "ipython",
    "version": 3
   },
   "file_extension": ".py",
   "mimetype": "text/x-python",
   "name": "python",
   "nbconvert_exporter": "python",
   "pygments_lexer": "ipython3",
   "version": "3.13.7"
  }
 },
 "nbformat": 4,
 "nbformat_minor": 5
}
